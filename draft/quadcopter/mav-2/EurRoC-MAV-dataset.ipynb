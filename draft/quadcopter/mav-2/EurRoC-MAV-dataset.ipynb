{
 "cells": [
  {
   "cell_type": "code",
   "execution_count": 98,
   "metadata": {},
   "outputs": [],
   "source": [
    "%matplotlib inline\n",
    "from matplotlib import pyplot as plt"
   ]
  },
  {
   "cell_type": "code",
   "execution_count": 117,
   "metadata": {},
   "outputs": [],
   "source": [
    "import yaml\n",
    "import numpy as np\n",
    "# import csv\n",
    "from glob import glob\n",
    "import cv2"
   ]
  },
  {
   "cell_type": "code",
   "execution_count": 118,
   "metadata": {},
   "outputs": [
    {
     "name": "stdout",
     "output_type": "stream",
     "text": [
      "\u001b[30m\u001b[43mdata\u001b[m\u001b[m/        \u001b[31mdata.csv\u001b[m\u001b[m*    \u001b[31msensor.yaml\u001b[m\u001b[m*\r\n"
     ]
    }
   ],
   "source": [
    "%ls cam0"
   ]
  },
  {
   "cell_type": "code",
   "execution_count": 119,
   "metadata": {},
   "outputs": [],
   "source": [
    "def getYaml(file):\n",
    "    with open(file, 'r') as f:\n",
    "        doc = yaml.safe_load(f)\n",
    "    return doc"
   ]
  },
  {
   "cell_type": "code",
   "execution_count": 120,
   "metadata": {},
   "outputs": [
    {
     "name": "stdout",
     "output_type": "stream",
     "text": [
      "{'comment': 'Asctec Firefly MAV'}\n"
     ]
    }
   ],
   "source": [
    "body = getYaml('body.yaml')\n",
    "print(body)\n",
    "# c0 = getYaml('cam0/sensor.yaml')\n",
    "# c1 = getYaml('cam1/sensor.yaml')"
   ]
  },
  {
   "cell_type": "code",
   "execution_count": 68,
   "metadata": {},
   "outputs": [
    {
     "name": "stdout",
     "output_type": "stream",
     "text": [
      "{'sensor_type': 'camera', 'comment': 'VI-Sensor cam0 (MT9M034)', 'T_BS': {'cols': 4, 'rows': 4, 'data': [0.0148655429818, -0.999880929698, 0.00414029679422, -0.0216401454975, 0.999557249008, 0.0149672133247, 0.025715529948, -0.064676986768, -0.0257744366974, 0.00375618835797, 0.999660727178, 0.00981073058949, 0.0, 0.0, 0.0, 1.0]}, 'rate_hz': 20, 'resolution': [752, 480], 'camera_model': 'pinhole', 'intrinsics': [458.654, 457.296, 367.215, 248.375], 'distortion_model': 'radial-tangential', 'distortion_coefficients': [-0.28340811, 0.07395907, 0.00019359, 1.76187114e-05]}\n"
     ]
    }
   ],
   "source": [
    "# print(c0)\n",
    "# print(cam1)"
   ]
  },
  {
   "cell_type": "code",
   "execution_count": 106,
   "metadata": {},
   "outputs": [],
   "source": [
    "class CameraModel(object):\n",
    "    def __init__(self, file):\n",
    "        data = getYaml(file)\n",
    "        self.shape = (data['T_BS']['rows'], data['T_BS']['cols'],)\n",
    "        self.T_BS = np.array(data['T_BS']['data']).reshape(*self.shape)\n",
    "        self.D = np.array(data['distortion_coefficients'])\n",
    "        t = data['intrinsics']\n",
    "        self.K = np.eye(3)\n",
    "        self.K[0,0] = t[0]\n",
    "        self.K[1,1] = t[1]\n",
    "        self.K[0,2] = t[2]\n",
    "        self.K[1,2] = t[3]\n",
    "        self.rate_hz = data['rate_hz']"
   ]
  },
  {
   "cell_type": "code",
   "execution_count": 107,
   "metadata": {},
   "outputs": [],
   "source": [
    "cam0 = CameraModel('cam0/sensor.yaml')\n",
    "cam1 = CameraModel('cam1/sensor.yaml')"
   ]
  },
  {
   "cell_type": "code",
   "execution_count": 108,
   "metadata": {},
   "outputs": [
    {
     "data": {
      "text/plain": [
       "array([[ 0.01486554, -0.99988093,  0.0041403 , -0.02164015],\n",
       "       [ 0.99955725,  0.01496721,  0.02571553, -0.06467699],\n",
       "       [-0.02577444,  0.00375619,  0.99966073,  0.00981073],\n",
       "       [ 0.        ,  0.        ,  0.        ,  1.        ]])"
      ]
     },
     "execution_count": 108,
     "metadata": {},
     "output_type": "execute_result"
    }
   ],
   "source": [
    "cam0.T_BS"
   ]
  },
  {
   "cell_type": "code",
   "execution_count": 82,
   "metadata": {},
   "outputs": [
    {
     "data": {
      "text/plain": [
       "array([[ 0.01255527, -0.9997551 ,  0.01822377, -0.01984356],\n",
       "       [ 0.99959878,  0.01301191,  0.02515884,  0.04536894],\n",
       "       [-0.0253898 ,  0.01790058,  0.99951735,  0.00786212],\n",
       "       [ 0.        ,  0.        ,  0.        ,  1.        ]])"
      ]
     },
     "execution_count": 82,
     "metadata": {},
     "output_type": "execute_result"
    }
   ],
   "source": [
    "cam1.T_BS"
   ]
  },
  {
   "cell_type": "code",
   "execution_count": 84,
   "metadata": {},
   "outputs": [],
   "source": [
    "# with open('cam0/data.csv', newline='') as csvfile:\n",
    "#     data = csv.reader(csvfile, delimiter=' ', quotechar='|')"
   ]
  },
  {
   "cell_type": "code",
   "execution_count": 110,
   "metadata": {},
   "outputs": [],
   "source": [
    "# files = glob(\"cam0/data/*.png\")\n",
    "# print(\"Number files found:\", len(files))"
   ]
  },
  {
   "cell_type": "code",
   "execution_count": 112,
   "metadata": {},
   "outputs": [],
   "source": [
    "def getImgs(path):\n",
    "    files = glob(path)\n",
    "    print(\"{} has {} images\".format(path, len(files)))\n",
    "    imgs = []\n",
    "    timestamps = []\n",
    "    for f in files:\n",
    "        ts = int(f.split(\"/\")[2].split(\".\")[0])\n",
    "        timestamps.append(ts)\n",
    "        im = cv2.imread(f)\n",
    "        imgs.append(im)\n",
    "    return imgs, timestamps"
   ]
  },
  {
   "cell_type": "code",
   "execution_count": 91,
   "metadata": {},
   "outputs": [],
   "source": [
    "# f = files[0]\n",
    "# ts = int(f.split(\"/\")[2].split(\".\")[0])"
   ]
  },
  {
   "cell_type": "code",
   "execution_count": 113,
   "metadata": {},
   "outputs": [
    {
     "name": "stdout",
     "output_type": "stream",
     "text": [
      "cam0/data/*.png has 2912 images\n",
      "cam1/data/*.png has 2912 images\n"
     ]
    }
   ],
   "source": [
    "left, ts = getImgs(\"cam0/data/*.png\")\n",
    "right, ts = getImgs(\"cam1/data/*.png\")"
   ]
  },
  {
   "cell_type": "code",
   "execution_count": 116,
   "metadata": {},
   "outputs": [
    {
     "data": {
      "image/png": "[encoded data removed]",
      "text/plain": [
       "<Figure size 432x288 with 1 Axes>"
      ]
     },
     "metadata": {
      "needs_background": "light"
     },
     "output_type": "display_data"
    }
   ],
   "source": [
    "num = 2000\n",
    "plt.imshow(np.hstack((left[num], right[num])))\n",
    "title = \"{}   {}x{}\".format(ts[num],*left[num].shape)\n",
    "plt.title(title)\n",
    "plt.axis('off');"
   ]
  },
  {
   "cell_type": "code",
   "execution_count": 132,
   "metadata": {},
   "outputs": [],
   "source": [
    "# This is just a collection of different feature detectors\n",
    "def FAST(im):\n",
    "    fast = cv2.FastFeatureDetector_create()\n",
    "    fast.setNonmaxSuppression(True)\n",
    "    fast.setThreshold(5)  # 20\n",
    "    # find and draw the keypoints\n",
    "    keypoints = fast.detect(im)\n",
    "    keypoints=np.array([[k.pt] for k in keypoints],dtype='f4')  # int?\n",
    "    \n",
    "    \n",
    "    # keypoints = sorted(kp1, key = lambda x:x.response, reverse=True)[:numCorners]\n",
    "    # keypoints = np.array([k.pt for k in keypoints], dtype='int')\n",
    "    \n",
    "    return keypoints\n",
    "\n",
    "def ORB(im):\n",
    "    # this seems to loose points quickly\n",
    "    orb = cv2.ORB_create()\n",
    "    keypoints = orb.detect(im,None)\n",
    "    keypoints=np.array([[k.pt] for k in keypoints],dtype='f4')\n",
    "    return keypoints\n",
    "\n",
    "def ShiTomasi(im):\n",
    "    # params for ShiTomasi corner detection\n",
    "    feature_params = dict( maxCorners = 500,\n",
    "        qualityLevel = 0.3,\n",
    "        minDistance = 7,\n",
    "        blockSize = 7 )\n",
    "    keypoints = cv2.goodFeaturesToTrack(im, mask = None, **feature_params)\n",
    "    return keypoints\n",
    "\n",
    "def featureDetection(im, method=0):\n",
    "    \"\"\"\n",
    "    This initializes the feature to track OR finds new features when the \n",
    "    current group of tracked features falls off the image plane (or said\n",
    "    anther way, are no longer in the image).\n",
    "    \"\"\"\n",
    "    method = 0\n",
    "    keypoints = None\n",
    "    if method == 0:\n",
    "        keypoints = FAST(im)\n",
    "    elif method == 1:\n",
    "        keypoints = ORB(im)\n",
    "    elif method == 2:\n",
    "        keypoints = ShiTomasi(im)\n",
    "    else:\n",
    "        print('ERROR: no method selected for feature detection')\n",
    "\n",
    "    return keypoints"
   ]
  },
  {
   "cell_type": "code",
   "execution_count": 133,
   "metadata": {},
   "outputs": [],
   "source": [
    "def featureTrack(new_gray,old_gray,p0):\n",
    "    \"\"\"\n",
    "    Given some initial feature (p0) find the new location of those \n",
    "    features in the new image. All images are grayscale.\n",
    "    \"\"\"\n",
    "    # Parameters for lucas kanade optical flow\n",
    "    lk_params = dict(\n",
    "        winSize  = (10,10),\n",
    "        maxLevel = 3,\n",
    "        criteria = (cv2.TERM_CRITERIA_EPS | cv2.TERM_CRITERIA_COUNT, 10, 0.03)\n",
    "    )\n",
    "\n",
    "    p1, st, err = cv2.calcOpticalFlowPyrLK(old_gray, new_gray, p0, None, **lk_params)\n",
    "\n",
    "    # good points have st==1, so weed out the bad\n",
    "    new = p0[st==1]\n",
    "    old = p1[st==1]\n",
    "    \n",
    "    p1 = np.array([[k] for k in new],dtype=np.float32)\n",
    "    p0 = np.array([[k] for k in old],dtype=np.float32)\n",
    "\n",
    "    return p0, p1"
   ]
  },
  {
   "cell_type": "code",
   "execution_count": 134,
   "metadata": {},
   "outputs": [],
   "source": [
    "def stereo_match_feature(left_img, right_img, patch_radius, keypoints, min_disp, max_disp):\n",
    "    # in case you want to find stereo match by yourself\n",
    "    h, w = left_img.shape\n",
    "    num_points = keypoints.shape[0]\n",
    "\n",
    "    # Depth (or disparity) map\n",
    "    depth = np.zeros(left_img.shape, np.uint8)\n",
    "    output = np.zeros(keypoints.shape, dtype='int')\n",
    "    all_index = np.zeros((keypoints.shape[0],1), dtype='int').reshape(-1)\n",
    "\n",
    "    r     = patch_radius\n",
    "    # patch_size = 2*patch_radius + 1;\n",
    "\n",
    "    for i in range(num_points):\n",
    "\n",
    "        row, col = keypoints[i,0], keypoints[i,1]\n",
    "        # print(row, col)\n",
    "        best_offset = 0;\n",
    "        best_score = float('inf');\n",
    "\n",
    "        if (row-r < 0 or row + r >= h or col - r < 0 or col + r >= w): continue\n",
    "\n",
    "        left_patch = left_img[(row-r):(row+r+1), (col-r):(col+r+1)] # left imag patch\n",
    "\n",
    "        all_index[i] = 1\n",
    "\n",
    "        for offset in range(min_disp, max_disp+1):\n",
    "\n",
    "              if (row-r) < 0 or row + r >= h or  (col-r-offset) < 0 or (col+r-offset) >= w:\n",
    "                    continue\n",
    "\n",
    "              diff  = left_patch - right_img[(row-r):(row+r+1), (col-r-offset):(col+r-offset+1)]\n",
    "              sum_s = np.sum(diff**2)\n",
    "\n",
    "              if sum_s < best_score:\n",
    "                  best_score = sum_s\n",
    "                  best_offset = offset\n",
    "\n",
    "        output[i,0], output[i,1] = row,col-best_offset\n",
    "\n",
    "    return output, all_index"
   ]
  },
  {
   "cell_type": "code",
   "execution_count": 135,
   "metadata": {},
   "outputs": [],
   "source": [
    "def removeDuplicate(queryPoints, refPoints, radius=5):\n",
    "    #remove duplicate points from new query points,\n",
    "    for i in range(len(queryPoints)):\n",
    "        query = queryPoints[i]\n",
    "        xliml, xlimh = query[0]-radius, query[0]+radius\n",
    "        yliml, ylimh = query[1]-radius, query[1]+radius\n",
    "        inside_x_lim_mask = (refPoints[:,0] > xliml) & (refPoints[:,0] < xlimh)\n",
    "        curr_kps_in_x_lim = refPoints[inside_x_lim_mask]\n",
    "\n",
    "        if curr_kps_in_x_lim.shape[0] != 0:\n",
    "            inside_y_lim_mask = (curr_kps_in_x_lim[:,1] > yliml) & (curr_kps_in_x_lim[:,1] < ylimh)\n",
    "            curr_kps_in_x_lim_and_y_lim = curr_kps_in_x_lim[inside_y_lim_mask,:]\n",
    "            if curr_kps_in_x_lim_and_y_lim.shape[0] != 0:\n",
    "                queryPoints[i] =  np.array([0,0])\n",
    "    return (queryPoints[:, 0]  != 0 )"
   ]
  },
  {
   "cell_type": "code",
   "execution_count": 161,
   "metadata": {},
   "outputs": [],
   "source": [
    "def extract_keypoints_surf(img1, img2, K, baseline, refPoints = None):\n",
    "#     detector = cv2.xfeatures2d.SURF_create(400)\n",
    "    detector = cv2.ORB_create()\n",
    "#     detector = cv2.FastFeatureDetector_create()\n",
    "#     detector.setNonmaxSuppression(True)\n",
    "#     detector.setThreshold(5)  # 20\n",
    "    \n",
    "    kp1, desc1 = detector.detectAndCompute(img1, None)\n",
    "    kp2, desc2 = detector.detectAndCompute(img2, None)\n",
    "    \n",
    "    print(desc1.shape, desc2.shape)\n",
    "    print(type(desc1[0][0]))\n",
    "\n",
    "    # FLANN parameters\n",
    "    FLANN_INDEX_KDTREE = 1\n",
    "    index_params = dict(algorithm = FLANN_INDEX_KDTREE, trees = 5)\n",
    "    search_params = dict(checks=50)   # or pass empty dictionary\n",
    "    flann = cv2.FlannBasedMatcher(index_params,search_params)\n",
    "    matches = flann.knnMatch(desc1.astype(np.float32),desc2.astype(np.float32),k=2)\n",
    "\n",
    "    # ratio test as per Lowe's paper\n",
    "    match_points1, match_points2 = [], []\n",
    "    for i,(m,n) in enumerate(matches):\n",
    "        if m.distance < 0.7*n.distance:\n",
    "            match_points1.append(kp1[m.queryIdx].pt)\n",
    "            match_points2.append(kp2[m.trainIdx].pt)\n",
    "\n",
    "    p1 = np.array(match_points1).astype(float)\n",
    "    p2 = np.array(match_points2).astype(float)\n",
    "\n",
    "    if refPoints is not None:\n",
    "        mask = removeDuplicate(p1, refPoints)\n",
    "        p1 = p1[mask,:]\n",
    "        p2 = p2[mask,:]\n",
    "\n",
    "    # 3x4 homogenous matrix for left/right camera\n",
    "    M_left = K.dot(np.hstack((np.eye(3), np.zeros((3,1)))))\n",
    "    M_rght = K.dot(np.hstack((np.eye(3), np.array([[-baseline,0, 0]]).T)))\n",
    "    # rearrange to make function work\n",
    "    p1_flip = np.vstack((p1.T,np.ones((1,p1.shape[0]))))\n",
    "    p2_flip = np.vstack((p2.T,np.ones((1,p2.shape[0]))))\n",
    "    # reconstruct 3d points from camera matrices and points, returns 4xN pts (homogenous)\n",
    "    P = cv2.triangulatePoints(M_left, M_rght, p1_flip[:2], p2_flip[:2])\n",
    "    # these are 4d points, convert to 3d by dividing by the last element\n",
    "    P = P/P[3]\n",
    "    pts_3d = P[:3]\n",
    "\n",
    "    return pts_3d.T, p1"
   ]
  },
  {
   "cell_type": "code",
   "execution_count": 141,
   "metadata": {},
   "outputs": [],
   "source": [
    "def featureTracking(img_1, img_2, p1, world_points):\n",
    "    # use KLT tracker\n",
    "    lk_params = dict( winSize  = (21,21),\n",
    "                      maxLevel = 3,\n",
    "                      criteria = (cv2.TERM_CRITERIA_EPS | cv2.TERM_CRITERIA_COUNT, 30, 0.01))\n",
    "\n",
    "    p2, st, err = cv2.calcOpticalFlowPyrLK(img_1, img_2, p1, None, **lk_params)\n",
    "    st = st.reshape(st.shape[0])\n",
    "    # find good one\n",
    "    pre = p1[st==1]\n",
    "    p2 = p2[st==1]\n",
    "    w_points = world_points[st==1]  # ??????\n",
    "\n",
    "    return w_points, pre,p2"
   ]
  },
  {
   "cell_type": "code",
   "execution_count": 165,
   "metadata": {},
   "outputs": [],
   "source": [
    "def playImageSequence(images, K, baseline):\n",
    "    '''\n",
    "        different ways to initialize the query points and landmark points\n",
    "        you can specify the keypoints and landmarks\n",
    "        or you can inilize_3D with FAST corner points, then stere match and \n",
    "        then generate 3D points, but not so accurate\n",
    "        or you can use the OPENCV feature extraction and matching functions\n",
    "    '''\n",
    "    \n",
    "    ret_pos = []\n",
    "    left_img, right_img = images[0]\n",
    "\n",
    "    points, p1 = extract_keypoints_surf(left_img, right_img, K, baseline)\n",
    "    p1 = p1.astype('float32')\n",
    "\n",
    "    pnp_objP = np.expand_dims(points, axis = 2)\n",
    "    pnp_p1   = np.expand_dims(p1, axis = 2).astype(float)\n",
    "\n",
    "    # reference\n",
    "    reference_img = left_img\n",
    "    reference_2D  = p1\n",
    "    landmark_3D   = points\n",
    "\n",
    "    # _, rvec, tvec = cv2.solvePnP(pnp_objP, pnp_p1, K, None)\n",
    "\n",
    "    for i, (left_img, right_img) in enumerate(images):\n",
    "        if i % 20 == 0:\n",
    "            print('image: ', i)\n",
    "\n",
    "        # track points through left image\n",
    "        landmark_3D, reference_2D, tracked_2Dpoints = featureTracking(\n",
    "            reference_img, \n",
    "            left_img, # curImage, \n",
    "            reference_2D,  \n",
    "            landmark_3D)\n",
    "        print(landmark_3D.shape)\n",
    "\n",
    "        pnp_objP = np.expand_dims(landmark_3D, axis = 2)\n",
    "        pnp_cur  = np.expand_dims(tracked_2Dpoints, axis = 2).astype(float)\n",
    "\n",
    "        # try to estimate object pose given current image points\n",
    "        _, rvec, tvec, inliers = cv2.solvePnPRansac(pnp_objP , pnp_cur, K, None)\n",
    "\n",
    "        # update the new reference_2D\n",
    "        reference_2D = tracked_2Dpoints[inliers[:,0],:]\n",
    "        landmark_3D  = landmark_3D[inliers[:,0],:]\n",
    "\n",
    "        # retrieve the rotation matrix\n",
    "        rot,_ = cv2.Rodrigues(rvec)\n",
    "        tvec = -rot.T.dot(tvec)     # coordinate transformation, from camera to world\n",
    "\n",
    "        inv_transform = np.hstack((rot.T,tvec)) # inverse transform\n",
    "\n",
    "        inliers_ratio = len(inliers)/len(pnp_objP) # the inlier ratio\n",
    "#         print('inliers ratio: ',inliers_ratio)\n",
    "\n",
    "        # re-obtain the 3 D points if the conditions satisfied\n",
    "        # calculate distance tracked keypoints have moved\n",
    "        if (inliers_ratio < 0.9 or len(reference_2D) < 50):\n",
    "            # initiliazation new landmarks\n",
    "            \n",
    "            # landmark_3D, reference_2D = initiliazatize_3D_points(curImage, \n",
    "            #   curImage_R, K, baseline)\n",
    "            # reference_2D = np.fliplr(reference_2D).astype('float32')\n",
    "            \n",
    "            landmark_3D_new, reference_2D_new = extract_keypoints_surf(\n",
    "                left_img,   #curImage, \n",
    "                right_img,  # curImage_R, \n",
    "                K, \n",
    "                baseline, \n",
    "                reference_2D)\n",
    "            # ???\n",
    "            reference_2D_new = reference_2D_new.astype('float32')\n",
    "            landmark_3D_new = inv_transform.dot(\n",
    "                np.vstack((landmark_3D_new.T, np.ones((1,landmark_3D_new.shape[0]))))\n",
    "            )\n",
    "            valid_matches = landmark_3D_new[2,:] >0\n",
    "            landmark_3D_new = landmark_3D_new[:,valid_matches]\n",
    "\n",
    "            reference_2D = np.vstack((reference_2D, reference_2D_new[valid_matches,:]))\n",
    "            landmark_3D =  np.vstack((landmark_3D, landmark_3D_new.T))\n",
    "#         else:\n",
    "#             print(\"*** failed conditions ***\")\n",
    "\n",
    "        reference_img = left_img\n",
    "        ret_pos.append((tvec[0], tvec[2]))\n",
    "    \n",
    "    return ret_pos"
   ]
  },
  {
   "cell_type": "code",
   "execution_count": 166,
   "metadata": {},
   "outputs": [
    {
     "name": "stdout",
     "output_type": "stream",
     "text": [
      "(500, 32) (500, 32)\n",
      "<class 'numpy.uint8'>\n",
      "image:  0\n",
      "(106, 3)\n",
      "(7, 3)\n"
     ]
    },
    {
     "ename": "TypeError",
     "evalue": "'NoneType' object is not subscriptable",
     "output_type": "error",
     "traceback": [
      "\u001b[0;31m---------------------------------------------------------------------------\u001b[0m",
      "\u001b[0;31mTypeError\u001b[0m                                 Traceback (most recent call last)",
      "\u001b[0;32m<ipython-input-166-aa3c4cab85f6>\u001b[0m in \u001b[0;36m<module>\u001b[0;34m\u001b[0m\n\u001b[1;32m      2\u001b[0m \u001b[0mk\u001b[0m \u001b[0;34m=\u001b[0m \u001b[0mcam0\u001b[0m\u001b[0;34m.\u001b[0m\u001b[0mK\u001b[0m\u001b[0;34m\u001b[0m\u001b[0;34m\u001b[0m\u001b[0m\n\u001b[1;32m      3\u001b[0m \u001b[0mbaseline\u001b[0m \u001b[0;34m=\u001b[0m \u001b[0;36m0.54\u001b[0m\u001b[0;34m\u001b[0m\u001b[0;34m\u001b[0m\u001b[0m\n\u001b[0;32m----> 4\u001b[0;31m \u001b[0mpts\u001b[0m \u001b[0;34m=\u001b[0m \u001b[0mplayImageSequence\u001b[0m\u001b[0;34m(\u001b[0m\u001b[0mimgs\u001b[0m\u001b[0;34m,\u001b[0m \u001b[0mk\u001b[0m\u001b[0;34m,\u001b[0m \u001b[0mbaseline\u001b[0m\u001b[0;34m)\u001b[0m\u001b[0;34m\u001b[0m\u001b[0;34m\u001b[0m\u001b[0m\n\u001b[0m",
      "\u001b[0;32m<ipython-input-165-a5ff95e80520>\u001b[0m in \u001b[0;36mplayImageSequence\u001b[0;34m(images, K, baseline)\u001b[0m\n\u001b[1;32m     43\u001b[0m \u001b[0;34m\u001b[0m\u001b[0m\n\u001b[1;32m     44\u001b[0m         \u001b[0;31m# update the new reference_2D\u001b[0m\u001b[0;34m\u001b[0m\u001b[0;34m\u001b[0m\u001b[0;34m\u001b[0m\u001b[0m\n\u001b[0;32m---> 45\u001b[0;31m         \u001b[0mreference_2D\u001b[0m \u001b[0;34m=\u001b[0m \u001b[0mtracked_2Dpoints\u001b[0m\u001b[0;34m[\u001b[0m\u001b[0minliers\u001b[0m\u001b[0;34m[\u001b[0m\u001b[0;34m:\u001b[0m\u001b[0;34m,\u001b[0m\u001b[0;36m0\u001b[0m\u001b[0;34m]\u001b[0m\u001b[0;34m,\u001b[0m\u001b[0;34m:\u001b[0m\u001b[0;34m]\u001b[0m\u001b[0;34m\u001b[0m\u001b[0;34m\u001b[0m\u001b[0m\n\u001b[0m\u001b[1;32m     46\u001b[0m         \u001b[0mlandmark_3D\u001b[0m  \u001b[0;34m=\u001b[0m \u001b[0mlandmark_3D\u001b[0m\u001b[0;34m[\u001b[0m\u001b[0minliers\u001b[0m\u001b[0;34m[\u001b[0m\u001b[0;34m:\u001b[0m\u001b[0;34m,\u001b[0m\u001b[0;36m0\u001b[0m\u001b[0;34m]\u001b[0m\u001b[0;34m,\u001b[0m\u001b[0;34m:\u001b[0m\u001b[0;34m]\u001b[0m\u001b[0;34m\u001b[0m\u001b[0;34m\u001b[0m\u001b[0m\n\u001b[1;32m     47\u001b[0m \u001b[0;34m\u001b[0m\u001b[0m\n",
      "\u001b[0;31mTypeError\u001b[0m: 'NoneType' object is not subscriptable"
     ]
    }
   ],
   "source": [
    "imgs = [(l,r) for l,r in zip(left,right)]\n",
    "k = cam0.K\n",
    "baseline = 0.54\n",
    "pts = playImageSequence(imgs, k, baseline)"
   ]
  },
  {
   "cell_type": "code",
   "execution_count": null,
   "metadata": {},
   "outputs": [],
   "source": []
  }
 ],
 "metadata": {
  "kernelspec": {
   "display_name": "Python 3",
   "language": "python",
   "name": "python3"
  },
  "language_info": {
   "codemirror_mode": {
    "name": "ipython",
    "version": 3
   },
   "file_extension": ".py",
   "mimetype": "text/x-python",
   "name": "python",
   "nbconvert_exporter": "python",
   "pygments_lexer": "ipython3",
   "version": "3.7.3"
  }
 },
 "nbformat": 4,
 "nbformat_minor": 2
}
