{
 "cells": [
  {
   "cell_type": "markdown",
   "id": "aeb2e69d-e1ec-478b-884f-1dd490862c2a",
   "metadata": {},
   "source": [
    "# Statistics"
   ]
  },
  {
   "cell_type": "code",
   "execution_count": 1,
   "id": "774784c7-5bf6-4d96-ac17-76bf6d8a1193",
   "metadata": {},
   "outputs": [],
   "source": [
    "import numpy as np\n",
    "from matplotlib import pyplot as plt"
   ]
  },
  {
   "cell_type": "code",
   "execution_count": 26,
   "id": "87e6c1c1-7803-4231-97f9-0c9a57c49b18",
   "metadata": {},
   "outputs": [],
   "source": [
    "class Stats:\n",
    "    def __init__(self):\n",
    "        self.cnt = 0\n",
    "        self.m = 0\n",
    "        self.v = 0\n",
    "    def update(self, val):\n",
    "        diff = val - self.m\n",
    "        self.cnt += 1\n",
    "        self.m += diff / self.cnt\n",
    "        self.v += diff*diff\n",
    "    def mean(self): \n",
    "        return self.m\n",
    "    def var(self): \n",
    "        if self.v <= 1: return 0\n",
    "        return self.v / (self.cnt - 1)\n",
    "    def std(self): \n",
    "        return np.sqrt(self.var())"
   ]
  },
  {
   "cell_type": "code",
   "execution_count": 33,
   "id": "aae2e505-88d7-428f-9653-972b2eb7002d",
   "metadata": {},
   "outputs": [],
   "source": [
    "vals = np.random.normal(-2,3,10000)"
   ]
  },
  {
   "cell_type": "code",
   "execution_count": 34,
   "id": "f989d3ab-d759-41ef-8361-64815ce36152",
   "metadata": {},
   "outputs": [
    {
     "name": "stdout",
     "output_type": "stream",
     "text": [
      "mean: -1.996  var: 8.990  std: 2.998\n"
     ]
    }
   ],
   "source": [
    "s = Stats()\n",
    "\n",
    "for v in vals:\n",
    "    s.update(v)\n",
    "\n",
    "print(f\"mean: {s.mean():3.3f}  var: {s.var():3.3f}  std: {s.std():3.3f}\")"
   ]
  },
  {
   "cell_type": "code",
   "execution_count": null,
   "id": "1b81639d-a608-4b05-8991-c6b2d435f19c",
   "metadata": {},
   "outputs": [],
   "source": []
  }
 ],
 "metadata": {
  "kernelspec": {
   "display_name": "Python 3 (ipykernel)",
   "language": "python",
   "name": "python3"
  },
  "language_info": {
   "codemirror_mode": {
    "name": "ipython",
    "version": 3
   },
   "file_extension": ".py",
   "mimetype": "text/x-python",
   "name": "python",
   "nbconvert_exporter": "python",
   "pygments_lexer": "ipython3",
   "version": "3.11.6"
  }
 },
 "nbformat": 4,
 "nbformat_minor": 5
}
